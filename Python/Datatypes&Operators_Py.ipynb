{
  "cells": [
    {
      "cell_type": "markdown",
      "metadata": {
        "id": "view-in-github",
        "colab_type": "text"
      },
      "source": [
        "<a href=\"https://colab.research.google.com/github/ShaunFernandes22/Sem-5/blob/main/Python/Datatypes%26Operators_Py.ipynb\" target=\"_parent\"><img src=\"https://colab.research.google.com/assets/colab-badge.svg\" alt=\"Open In Colab\"/></a>"
      ]
    },
    {
      "cell_type": "markdown",
      "source": [
        "# **Datatypes**\n",
        "####In programming, data type is an important concept.\n",
        "\n",
        "####Variables can store data of different types, and different types can do different things.\n",
        "\n",
        "####Python has the following data types built-in by default, in these categories:"
      ],
      "metadata": {
        "id": "q0P4YaHP-z_3"
      },
      "id": "q0P4YaHP-z_3"
    },
    {
      "cell_type": "markdown",
      "source": [
        "##String Data Type\n",
        "###Strings in Python are arrays of bytes representing Unicode characters. A string is a collection of one or more characters put in a single quote, double-quote, or triple-quote. In python there is no character data type, a character is a string of length one. It is represented by str class.  \n",
        "\n",
        "###Creating String\n",
        "####Strings in Python can be created using single quotes or double quotes or even triple quotes."
      ],
      "metadata": {
        "id": "Dxr4997tP_rn"
      },
      "id": "Dxr4997tP_rn"
    },
    {
      "cell_type": "code",
      "execution_count": null,
      "metadata": {
        "id": "6f5cc959",
        "outputId": "60a438a5-0776-4aad-8f77-876e02813ac6"
      },
      "outputs": [
        {
          "data": {
            "text/plain": [
              "str"
            ]
          },
          "execution_count": 33,
          "metadata": {},
          "output_type": "execute_result"
        }
      ],
      "source": [
        "a = \"Text\"\n",
        "type(a)"
      ],
      "id": "6f5cc959"
    },
    {
      "cell_type": "markdown",
      "source": [
        "##Numeric Data Type in Python\n",
        "The numeric data type in Python represents the data that has a numeric value. A numeric value can be an **integer**, a **floating number**, or even a **complex number**. These values are defined as Python **int**, Python **float**, and Python **complex classes** in Python."
      ],
      "metadata": {
        "id": "FK2IGlvUQOQg"
      },
      "id": "FK2IGlvUQOQg"
    },
    {
      "cell_type": "code",
      "execution_count": null,
      "metadata": {
        "id": "2caf968a",
        "outputId": "3b7610e2-6066-448c-c462-86a8fc9ffb76"
      },
      "outputs": [
        {
          "data": {
            "text/plain": [
              "int"
            ]
          },
          "execution_count": 34,
          "metadata": {},
          "output_type": "execute_result"
        }
      ],
      "source": [
        "# Integers\n",
        "b = 10\n",
        "type(b)"
      ],
      "id": "2caf968a"
    },
    {
      "cell_type": "code",
      "execution_count": null,
      "metadata": {
        "id": "f7fb7aaa",
        "outputId": "ec061ab1-4a9d-4278-f9aa-d35cdb426b24"
      },
      "outputs": [
        {
          "data": {
            "text/plain": [
              "float"
            ]
          },
          "execution_count": 35,
          "metadata": {},
          "output_type": "execute_result"
        }
      ],
      "source": [
        "# Floating point numbers\n",
        "c = 10.0\n",
        "type(c)"
      ],
      "id": "f7fb7aaa"
    },
    {
      "cell_type": "code",
      "execution_count": null,
      "metadata": {
        "id": "1b67da3b",
        "outputId": "38a50e7c-d3fc-4505-ed3e-2a3d6c84bf7c"
      },
      "outputs": [
        {
          "data": {
            "text/plain": [
              "complex"
            ]
          },
          "execution_count": 36,
          "metadata": {},
          "output_type": "execute_result"
        }
      ],
      "source": [
        "# Complex numbers\n",
        "d = complex(3,2)\n",
        "type(d)"
      ],
      "id": "1b67da3b"
    },
    {
      "cell_type": "code",
      "source": [
        "comp = 3 + 6j\n",
        "type(comp)"
      ],
      "metadata": {
        "colab": {
          "base_uri": "https://localhost:8080/"
        },
        "id": "ohP6wCXkQ1Go",
        "outputId": "9c6537ce-3a56-4c13-906b-622745fe9ac2"
      },
      "execution_count": null,
      "outputs": [
        {
          "output_type": "execute_result",
          "data": {
            "text/plain": [
              "complex"
            ]
          },
          "metadata": {},
          "execution_count": 1
        }
      ],
      "id": "ohP6wCXkQ1Go"
    },
    {
      "cell_type": "markdown",
      "source": [
        "##Lists\n",
        "**Lists** are ordered collections of items, which can be of any data type. They are mutable, meaning you can change their contents (add, remove, or modify elements) after creation."
      ],
      "metadata": {
        "id": "U-TuLMjBRT64"
      },
      "id": "U-TuLMjBRT64"
    },
    {
      "cell_type": "code",
      "execution_count": null,
      "metadata": {
        "id": "de712029",
        "outputId": "92282bba-115d-4acb-ba00-86af64f7a70f"
      },
      "outputs": [
        {
          "data": {
            "text/plain": [
              "list"
            ]
          },
          "execution_count": 37,
          "metadata": {},
          "output_type": "execute_result"
        }
      ],
      "source": [
        "e = [\"this\", 32, \"isShaun\"]\n",
        "type(e)"
      ],
      "id": "de712029"
    },
    {
      "cell_type": "markdown",
      "source": [
        "##Range\n",
        "Range is a built-in sequence type used to represent a range of numbers. It's often used in loops for iterating a specific number of times efficiently and is immutable."
      ],
      "metadata": {
        "id": "mYLFTU-0vwLs"
      },
      "id": "mYLFTU-0vwLs"
    },
    {
      "cell_type": "code",
      "execution_count": null,
      "metadata": {
        "id": "2bb279ac",
        "outputId": "073129e2-9a29-4db6-ce73-9f853cb0bd16"
      },
      "outputs": [
        {
          "data": {
            "text/plain": [
              "range"
            ]
          },
          "execution_count": 38,
          "metadata": {},
          "output_type": "execute_result"
        }
      ],
      "source": [
        "f = range(3, 12)\n",
        "type(f)"
      ],
      "id": "2bb279ac"
    },
    {
      "cell_type": "markdown",
      "source": [
        "## Tuples\n",
        "Tuples are ordered, immutable collections of items. They are typically used to group related data together, and their elements can be of different data types. Once created, you can't change the elements in a tuple."
      ],
      "metadata": {
        "id": "sRIbNx7_v6lb"
      },
      "id": "sRIbNx7_v6lb"
    },
    {
      "cell_type": "code",
      "execution_count": null,
      "metadata": {
        "id": "0df9302e",
        "outputId": "46a29b4b-ee9e-4f25-9a12-b026d3ef199e"
      },
      "outputs": [
        {
          "data": {
            "text/plain": [
              "tuple"
            ]
          },
          "execution_count": 39,
          "metadata": {},
          "output_type": "execute_result"
        }
      ],
      "source": [
        "g = (1, 2, 4, 7, complex(3,2))\n",
        "type(g)"
      ],
      "id": "0df9302e"
    },
    {
      "cell_type": "markdown",
      "source": [
        "##Dictionary (dict):\n",
        "A dictionary is an unordered collection of key-value pairs. Each key is unique, and it maps to a corresponding value. Dictionaries are mutable and are often used for efficient data retrieval based on keys."
      ],
      "metadata": {
        "id": "9I0fN-e8wJfD"
      },
      "id": "9I0fN-e8wJfD"
    },
    {
      "cell_type": "code",
      "execution_count": null,
      "metadata": {
        "id": "6bcff01a",
        "outputId": "e6e0eef7-8a4d-488a-83b1-329cf24d4378"
      },
      "outputs": [
        {
          "name": "stdout",
          "output_type": "stream",
          "text": [
            "<class 'dict'>\n",
            "{'1': 'abc', '2': 'def'}\n",
            "dict_keys(['1', '2'])\n",
            "abc\n"
          ]
        }
      ],
      "source": [
        "dict1 = {'1': 'abc',\n",
        "          '2': 'def'}\n",
        "print(type(dict1))\n",
        "print(dict1)\n",
        "print(dict1.keys())\n",
        "print(dict1['1'])"
      ],
      "id": "6bcff01a"
    },
    {
      "cell_type": "markdown",
      "source": [
        "## Sets\n",
        "Sets are unordered collections of unique elements. They are useful for storing and performing set operations like union, intersection, and difference."
      ],
      "metadata": {
        "id": "RbX_QpKxwOMz"
      },
      "id": "RbX_QpKxwOMz"
    },
    {
      "cell_type": "code",
      "execution_count": null,
      "metadata": {
        "id": "e3c29e84",
        "outputId": "55ab23f9-180c-410c-a9f9-25876968a83b"
      },
      "outputs": [
        {
          "name": "stdout",
          "output_type": "stream",
          "text": [
            "{'poa', 'ai', 'dmw', 'adbms'}\n",
            "<class 'set'>\n"
          ]
        }
      ],
      "source": [
        "subj = {'adbms', 'poa', 'dmw', 'ai', 'ai'}\n",
        "print(subj)\n",
        "print(type(subj))"
      ],
      "id": "e3c29e84"
    },
    {
      "cell_type": "markdown",
      "source": [
        "##Boolean (bool):\n",
        "Boolean is a data type that represents one of two possible values, either True or False. Booleans are often used for making logical decisions in code, controlling program flow, and performing conditional checks. They are fundamental for creating conditional statements and control structures in Python."
      ],
      "metadata": {
        "id": "0RZ5rUB8wjMC"
      },
      "id": "0RZ5rUB8wjMC"
    },
    {
      "cell_type": "code",
      "execution_count": null,
      "metadata": {
        "id": "a98aad35",
        "outputId": "300b2d58-b1b1-41de-b39b-4dc19147479f"
      },
      "outputs": [
        {
          "data": {
            "text/plain": [
              "bool"
            ]
          },
          "execution_count": 40,
          "metadata": {},
          "output_type": "execute_result"
        }
      ],
      "source": [
        "flag = True\n",
        "type(flag)"
      ],
      "id": "a98aad35"
    },
    {
      "cell_type": "markdown",
      "source": [
        "## NoneType (None)\n",
        "'None' is a special data type in Python that represents the absence of a value or a null value. It is often used to indicate that a variable or object has no meaningful value or has not been assigned a value yet. 'None' is frequently used in functions that don't explicitly return a value or for initializing variables that will be assigned a value later."
      ],
      "metadata": {
        "id": "eiLxIAPOw4SZ"
      },
      "id": "eiLxIAPOw4SZ"
    },
    {
      "cell_type": "code",
      "execution_count": null,
      "metadata": {
        "id": "c7677e3d",
        "outputId": "acdb3af1-09d0-4668-fb91-cdb1d461da37"
      },
      "outputs": [
        {
          "data": {
            "text/plain": [
              "NoneType"
            ]
          },
          "execution_count": 32,
          "metadata": {},
          "output_type": "execute_result"
        }
      ],
      "source": [
        "empty = None\n",
        "type(empty)"
      ],
      "id": "c7677e3d"
    },
    {
      "cell_type": "markdown",
      "source": [
        "##Bytes and Byte Arrays (bytes):\n",
        "Bytes represent sequences of binary data and are immutable. They are commonly used to handle binary data, such as reading and writing binary files. Byte arrays, on the other hand, are mutable sequences of bytes, allowing you to modify their content. They are useful for tasks like encoding and decoding binary data."
      ],
      "metadata": {
        "id": "4iy_fG4twtfa"
      },
      "id": "4iy_fG4twtfa"
    },
    {
      "cell_type": "code",
      "execution_count": null,
      "metadata": {
        "id": "d86002f3",
        "outputId": "a4cf8492-3eb1-430b-e30a-14c878361be7"
      },
      "outputs": [
        {
          "name": "stdout",
          "output_type": "stream",
          "text": [
            "b'new'\n",
            "<class 'bytes'>\n"
          ]
        }
      ],
      "source": [
        "a = b'new'\n",
        "print(a)\n",
        "print(type(a))"
      ],
      "id": "d86002f3"
    },
    {
      "cell_type": "markdown",
      "source": [
        "# ***Operators in Python***"
      ],
      "metadata": {
        "id": "aRIWjBU_4lI1"
      },
      "id": "aRIWjBU_4lI1"
    },
    {
      "cell_type": "markdown",
      "source": [
        "##**Arithmetic Operators**\n",
        "\n",
        "\n"
      ],
      "metadata": {
        "id": "T1lPdeeLJ0Vj"
      },
      "id": "T1lPdeeLJ0Vj"
    },
    {
      "cell_type": "markdown",
      "source": [
        "### Addition (+)\n",
        "The addition operator is used to add two numbers or concatenate two strings.\n",
        "\n"
      ],
      "metadata": {
        "id": "CeCUlY_5KhIp"
      },
      "id": "CeCUlY_5KhIp"
    },
    {
      "cell_type": "code",
      "execution_count": null,
      "id": "ee04e550",
      "metadata": {
        "id": "ee04e550",
        "outputId": "a4e25579-a403-403b-e6ac-50e86778359b"
      },
      "outputs": [
        {
          "data": {
            "text/plain": [
              "5"
            ]
          },
          "execution_count": 1,
          "metadata": {},
          "output_type": "execute_result"
        }
      ],
      "source": [
        "a = 3\n",
        "b = 2\n",
        "c = a+b\n",
        "c"
      ]
    },
    {
      "cell_type": "markdown",
      "source": [
        "###Subtraction (-)\n",
        "The subtraction operator is used to subtract one number from another."
      ],
      "metadata": {
        "id": "jkJ98B85K5X7"
      },
      "id": "jkJ98B85K5X7"
    },
    {
      "cell_type": "code",
      "execution_count": null,
      "id": "bf84985e",
      "metadata": {
        "id": "bf84985e",
        "outputId": "7f7be9ca-3718-4c05-fbff-8263055e4aab"
      },
      "outputs": [
        {
          "data": {
            "text/plain": [
              "-5"
            ]
          },
          "execution_count": 2,
          "metadata": {},
          "output_type": "execute_result"
        }
      ],
      "source": [
        "a = 3\n",
        "b = 8\n",
        "a-b"
      ]
    },
    {
      "cell_type": "markdown",
      "source": [
        "### Multiplication (*)\n",
        "The multiplication operator is used to multiply two numbers or replicate a string."
      ],
      "metadata": {
        "id": "eX1D06Y0ZWvt"
      },
      "id": "eX1D06Y0ZWvt"
    },
    {
      "cell_type": "code",
      "execution_count": null,
      "id": "bb568972",
      "metadata": {
        "id": "bb568972",
        "outputId": "e7e35207-1d55-45a9-93ae-88023d17860a"
      },
      "outputs": [
        {
          "data": {
            "text/plain": [
              "15"
            ]
          },
          "execution_count": 3,
          "metadata": {},
          "output_type": "execute_result"
        }
      ],
      "source": [
        "3*5"
      ]
    },
    {
      "cell_type": "markdown",
      "source": [
        "### Division (/)\n",
        "The division operator is used to divide one number by another, resulting in a floating-point (decimal) number."
      ],
      "metadata": {
        "id": "Ya5iWccvZd9s"
      },
      "id": "Ya5iWccvZd9s"
    },
    {
      "cell_type": "code",
      "execution_count": null,
      "id": "3b13dbfb",
      "metadata": {
        "id": "3b13dbfb",
        "outputId": "7e9a3045-7e49-4f22-dec9-426232e17396"
      },
      "outputs": [
        {
          "data": {
            "text/plain": [
              "5.0"
            ]
          },
          "execution_count": 4,
          "metadata": {},
          "output_type": "execute_result"
        }
      ],
      "source": [
        "45/9"
      ]
    },
    {
      "cell_type": "markdown",
      "source": [
        "###Modulus operator (%)\n",
        "The modulus operator is used to find the remainder when one number is divided by another."
      ],
      "metadata": {
        "id": "-6JL8JnvZjr_"
      },
      "id": "-6JL8JnvZjr_"
    },
    {
      "cell_type": "code",
      "execution_count": null,
      "id": "2d5e2aec",
      "metadata": {
        "id": "2d5e2aec",
        "outputId": "ba33d80e-a7ea-49dd-e76c-519820474c49"
      },
      "outputs": [
        {
          "data": {
            "text/plain": [
              "5"
            ]
          },
          "execution_count": 5,
          "metadata": {},
          "output_type": "execute_result"
        }
      ],
      "source": [
        "5%10"
      ]
    },
    {
      "cell_type": "markdown",
      "source": [
        "###Exponentiation (**)\n",
        "The exponentiation operator is used to raise a number to a certain power. It can also be performed using the pow() function."
      ],
      "metadata": {
        "id": "kUjXzoRrZpS7"
      },
      "id": "kUjXzoRrZpS7"
    },
    {
      "cell_type": "code",
      "execution_count": null,
      "id": "a90380b5",
      "metadata": {
        "id": "a90380b5",
        "outputId": "55597682-5230-49ee-a677-98e496096438"
      },
      "outputs": [
        {
          "data": {
            "text/plain": [
              "343"
            ]
          },
          "execution_count": 6,
          "metadata": {},
          "output_type": "execute_result"
        }
      ],
      "source": [
        "7**3"
      ]
    },
    {
      "cell_type": "markdown",
      "source": [
        "###Floor division (//)\n",
        "The floor division operator is used to divide one number by another and round down the result to the nearest integer. It returns an integer."
      ],
      "metadata": {
        "id": "iUcBuvCFZu2s"
      },
      "id": "iUcBuvCFZu2s"
    },
    {
      "cell_type": "code",
      "execution_count": null,
      "id": "ef2e6468",
      "metadata": {
        "id": "ef2e6468",
        "outputId": "023d43d1-2386-4f9b-9ae4-ec025db1f658"
      },
      "outputs": [
        {
          "data": {
            "text/plain": [
              "1"
            ]
          },
          "execution_count": 8,
          "metadata": {},
          "output_type": "execute_result"
        }
      ],
      "source": [
        "3//2"
      ]
    },
    {
      "cell_type": "markdown",
      "source": [
        "## **Assignment Operators**"
      ],
      "metadata": {
        "id": "9z4qjxZF5ihv"
      },
      "id": "9z4qjxZF5ihv"
    },
    {
      "cell_type": "markdown",
      "source": [
        "###Assignment (=) :\n",
        "The assignment operator '=' is used to assign a value to a variable. It assigns the value on the right-hand side to the variable on the left-hand side."
      ],
      "metadata": {
        "id": "oHCwA_N13T7L"
      },
      "id": "oHCwA_N13T7L"
    },
    {
      "cell_type": "code",
      "execution_count": null,
      "metadata": {
        "colab": {
          "base_uri": "https://localhost:8080/"
        },
        "id": "6e882941",
        "outputId": "e4f63d35-5282-49fd-badb-e41e9fafb821"
      },
      "outputs": [
        {
          "output_type": "execute_result",
          "data": {
            "text/plain": [
              "12"
            ]
          },
          "metadata": {},
          "execution_count": 2
        }
      ],
      "source": [
        "a = 12\n",
        "a"
      ],
      "id": "6e882941"
    },
    {
      "cell_type": "markdown",
      "source": [
        "###Addition Assignment (+=) :\n",
        "The addition assignment operator '+=' is used to add the value on the right-hand side to the variable on the left-hand side and update the variable with the result."
      ],
      "metadata": {
        "id": "QQaHBnW23T5_"
      },
      "id": "QQaHBnW23T5_"
    },
    {
      "cell_type": "code",
      "execution_count": null,
      "metadata": {
        "colab": {
          "base_uri": "https://localhost:8080/"
        },
        "id": "a46704ae",
        "outputId": "c0096d9a-218b-4153-d2a6-31c21dbfb78c"
      },
      "outputs": [
        {
          "output_type": "execute_result",
          "data": {
            "text/plain": [
              "17"
            ]
          },
          "metadata": {},
          "execution_count": 3
        }
      ],
      "source": [
        "a += 5\n",
        "a"
      ],
      "id": "a46704ae"
    },
    {
      "cell_type": "markdown",
      "source": [
        "###Subtraction Assignment (-=) :\n",
        "The subtraction assignment operator -= is used to subtract the value on the right-hand side from the variable on the left-hand side and update the variable with the result."
      ],
      "metadata": {
        "id": "qKRQ01D43s3Y"
      },
      "id": "qKRQ01D43s3Y"
    },
    {
      "cell_type": "code",
      "execution_count": null,
      "metadata": {
        "colab": {
          "base_uri": "https://localhost:8080/"
        },
        "id": "90caf1b4",
        "outputId": "61ccf8ad-a4ff-48ab-8df3-f6d9351c4de9"
      },
      "outputs": [
        {
          "output_type": "execute_result",
          "data": {
            "text/plain": [
              "11"
            ]
          },
          "metadata": {},
          "execution_count": 4
        }
      ],
      "source": [
        "a -= 6\n",
        "a"
      ],
      "id": "90caf1b4"
    },
    {
      "cell_type": "markdown",
      "source": [
        "###Multiplication Assignment (*=) :\n",
        "The multiplication assignment operator *= is used to multiply the variable on the left-hand side by the value on the right-hand side and update the variable with the result."
      ],
      "metadata": {
        "id": "fMCnosuM3yRG"
      },
      "id": "fMCnosuM3yRG"
    },
    {
      "cell_type": "code",
      "execution_count": null,
      "metadata": {
        "colab": {
          "base_uri": "https://localhost:8080/"
        },
        "id": "8450bfb0",
        "outputId": "fbbeda9e-13ec-4be2-97bf-9b613bc07f3f"
      },
      "outputs": [
        {
          "output_type": "execute_result",
          "data": {
            "text/plain": [
              "110"
            ]
          },
          "metadata": {},
          "execution_count": 5
        }
      ],
      "source": [
        "a *= 10\n",
        "a"
      ],
      "id": "8450bfb0"
    },
    {
      "cell_type": "markdown",
      "source": [
        "###Division Assignment (/=) :\n",
        "The division assignment operator /= is used to divide the variable on the left-hand side by the value on the right-hand side and update the variable with the result."
      ],
      "metadata": {
        "id": "5LtLNRc44pXf"
      },
      "id": "5LtLNRc44pXf"
    },
    {
      "cell_type": "code",
      "execution_count": null,
      "metadata": {
        "colab": {
          "base_uri": "https://localhost:8080/"
        },
        "id": "042f871c",
        "outputId": "15a4254d-2ec0-415b-e99c-db6fffa8dbab"
      },
      "outputs": [
        {
          "output_type": "execute_result",
          "data": {
            "text/plain": [
              "22.0"
            ]
          },
          "metadata": {},
          "execution_count": 6
        }
      ],
      "source": [
        "a /= 5\n",
        "a"
      ],
      "id": "042f871c"
    },
    {
      "cell_type": "markdown",
      "source": [
        "###Modulus Assignment (%=) :\n",
        "The modulus assignment operator %= is used to find the modulus of the variable on the left-hand side when divided by the value on the right-hand side and update the variable with the result."
      ],
      "metadata": {
        "id": "eCaWt-MC4qt-"
      },
      "id": "eCaWt-MC4qt-"
    },
    {
      "cell_type": "code",
      "execution_count": null,
      "metadata": {
        "colab": {
          "base_uri": "https://localhost:8080/"
        },
        "id": "fdbf9b6a",
        "outputId": "4188d641-dc02-43b5-9241-cc6ce8ee344e"
      },
      "outputs": [
        {
          "output_type": "execute_result",
          "data": {
            "text/plain": [
              "2.0"
            ]
          },
          "metadata": {},
          "execution_count": 7
        }
      ],
      "source": [
        "a %= 4\n",
        "a"
      ],
      "id": "fdbf9b6a"
    },
    {
      "cell_type": "markdown",
      "source": [
        "###Exponentiation Assignment (=)\\** :\n",
        "The exponentiation assignment operator \\**= is used to raise the variable on the left-hand side to the power of the value on the right-hand side and update the variable with the result."
      ],
      "metadata": {
        "id": "WmuJ7VsU4_pG"
      },
      "id": "WmuJ7VsU4_pG"
    },
    {
      "cell_type": "code",
      "execution_count": null,
      "metadata": {
        "colab": {
          "base_uri": "https://localhost:8080/"
        },
        "id": "cf0cce47",
        "outputId": "3692c8ff-4627-45e3-d5dc-d064d07f8ba3"
      },
      "outputs": [
        {
          "output_type": "execute_result",
          "data": {
            "text/plain": [
              "1024.0"
            ]
          },
          "metadata": {},
          "execution_count": 8
        }
      ],
      "source": [
        "a **= 10\n",
        "a"
      ],
      "id": "cf0cce47"
    },
    {
      "cell_type": "markdown",
      "source": [
        "###Floor Division Assignment (//=) :\n",
        "The floor division assignment operator //= is used to perform floor division on the variable on the left-hand side by the value on the right-hand side and update the variable with the result."
      ],
      "metadata": {
        "id": "R1ruPCpG4-Gw"
      },
      "id": "R1ruPCpG4-Gw"
    },
    {
      "cell_type": "code",
      "execution_count": null,
      "metadata": {
        "colab": {
          "base_uri": "https://localhost:8080/"
        },
        "id": "ecdb3876",
        "outputId": "9eee74ea-a8d4-42fc-f171-93f92108f8f1"
      },
      "outputs": [
        {
          "output_type": "execute_result",
          "data": {
            "text/plain": [
              "341.0"
            ]
          },
          "metadata": {},
          "execution_count": 9
        }
      ],
      "source": [
        "a //= 3\n",
        "a"
      ],
      "id": "ecdb3876"
    },
    {
      "cell_type": "markdown",
      "metadata": {
        "id": "c2d33631"
      },
      "source": [
        "## **Comparison operators**"
      ],
      "id": "c2d33631"
    },
    {
      "cell_type": "markdown",
      "source": [
        "###Equal (==):\n",
        "The equal operator == is used to check if two values are equal. It returns True if they are equal and False otherwise."
      ],
      "metadata": {
        "id": "-EK8uXWZ6JSY"
      },
      "id": "-EK8uXWZ6JSY"
    },
    {
      "cell_type": "code",
      "execution_count": null,
      "metadata": {
        "id": "70873d1c",
        "outputId": "18ee98ba-6a0f-4469-ed42-7deabb610873"
      },
      "outputs": [
        {
          "data": {
            "text/plain": [
              "True"
            ]
          },
          "execution_count": 1,
          "metadata": {},
          "output_type": "execute_result"
        }
      ],
      "source": [
        "5 == 5"
      ],
      "id": "70873d1c"
    },
    {
      "cell_type": "markdown",
      "source": [
        "###Not Equal (!=):\n",
        "The not equal operator != is used to check if two values are not equal. It returns True if they are not equal and False if they are equal."
      ],
      "metadata": {
        "id": "8SvR4hFV97-p"
      },
      "id": "8SvR4hFV97-p"
    },
    {
      "cell_type": "code",
      "execution_count": null,
      "metadata": {
        "id": "be842d83",
        "outputId": "8ada6a36-d861-49fc-c71b-f642f0686ef6"
      },
      "outputs": [
        {
          "data": {
            "text/plain": [
              "False"
            ]
          },
          "execution_count": 2,
          "metadata": {},
          "output_type": "execute_result"
        }
      ],
      "source": [
        "5 !=5"
      ],
      "id": "be842d83"
    },
    {
      "cell_type": "markdown",
      "source": [
        "###Greater Than (>):\n",
        "The greater than operator > is used to check if the value on the left is greater than the value on the right. It returns True if the left value is greater, and False otherwise."
      ],
      "metadata": {
        "id": "7YxgsAsW-AXH"
      },
      "id": "7YxgsAsW-AXH"
    },
    {
      "cell_type": "code",
      "execution_count": null,
      "metadata": {
        "id": "b1f26ec1",
        "outputId": "f92cf28f-a63d-46f8-c4d9-b977291d9738"
      },
      "outputs": [
        {
          "data": {
            "text/plain": [
              "True"
            ]
          },
          "execution_count": 3,
          "metadata": {},
          "output_type": "execute_result"
        }
      ],
      "source": [
        "5 > 3"
      ],
      "id": "b1f26ec1"
    },
    {
      "cell_type": "markdown",
      "source": [
        "###Less Than (<):\n",
        "The less than operator < is used to check if the value on the left is less than the value on the right. It returns True if the left value is less, and False otherwise."
      ],
      "metadata": {
        "id": "ZSzOYtoL-Bb_"
      },
      "id": "ZSzOYtoL-Bb_"
    },
    {
      "cell_type": "code",
      "execution_count": null,
      "metadata": {
        "id": "c56b01a4",
        "outputId": "e189760a-621f-425b-a771-4513c98c3112"
      },
      "outputs": [
        {
          "data": {
            "text/plain": [
              "True"
            ]
          },
          "execution_count": 4,
          "metadata": {},
          "output_type": "execute_result"
        }
      ],
      "source": [
        "44 < 79"
      ],
      "id": "c56b01a4"
    },
    {
      "cell_type": "markdown",
      "source": [
        "###Greater Than or Equal To (>=):\n",
        "The greater than or equal to operator >= is used to check if the value on the left is greater than or equal to the value on the right. It returns True if the left value is greater than or equal, and False otherwise."
      ],
      "metadata": {
        "id": "thAxbSGw-CEv"
      },
      "id": "thAxbSGw-CEv"
    },
    {
      "cell_type": "code",
      "execution_count": null,
      "metadata": {
        "id": "ffe9542b",
        "outputId": "36d62292-f61f-44a9-aaa6-7256cb185454"
      },
      "outputs": [
        {
          "data": {
            "text/plain": [
              "True"
            ]
          },
          "execution_count": 5,
          "metadata": {},
          "output_type": "execute_result"
        }
      ],
      "source": [
        "30 >= 23"
      ],
      "id": "ffe9542b"
    },
    {
      "cell_type": "markdown",
      "source": [
        "###Less Than or Equal To (<=):\n",
        "The less than or equal to operator <= is used to check if the value on the left is less than or equal to the value on the right. It returns True if the left value is less than or equal, and False otherwise."
      ],
      "metadata": {
        "id": "-QI16tfQ-Ct_"
      },
      "id": "-QI16tfQ-Ct_"
    },
    {
      "cell_type": "code",
      "execution_count": null,
      "metadata": {
        "id": "12b0e48d",
        "outputId": "d5d9e11b-4ee5-4c71-9174-de341ea14310"
      },
      "outputs": [
        {
          "data": {
            "text/plain": [
              "False"
            ]
          },
          "execution_count": 6,
          "metadata": {},
          "output_type": "execute_result"
        }
      ],
      "source": [
        "22 <= 12"
      ],
      "id": "12b0e48d"
    },
    {
      "cell_type": "markdown",
      "metadata": {
        "id": "d9ca04f7"
      },
      "source": [
        "##**Logical operators**"
      ],
      "id": "d9ca04f7"
    },
    {
      "cell_type": "code",
      "execution_count": null,
      "metadata": {
        "id": "6ce00dfc"
      },
      "outputs": [],
      "source": [
        "a =0 ;b =15"
      ],
      "id": "6ce00dfc"
    },
    {
      "cell_type": "markdown",
      "source": [
        "###Logical AND (and):\n",
        "The and operator returns True if both operands are True, and False otherwise. It is used to combine multiple conditions, ensuring that all conditions must be true for the overall expression to be true."
      ],
      "metadata": {
        "id": "YjhLB3Ma-DZf"
      },
      "id": "YjhLB3Ma-DZf"
    },
    {
      "cell_type": "code",
      "execution_count": null,
      "metadata": {
        "id": "0340db44",
        "outputId": "870b5f0d-ac88-4303-b5fc-e82fa1fdae15"
      },
      "outputs": [
        {
          "data": {
            "text/plain": [
              "False"
            ]
          },
          "execution_count": 9,
          "metadata": {},
          "output_type": "execute_result"
        }
      ],
      "source": [
        "a < 1 and b > 20"
      ],
      "id": "0340db44"
    },
    {
      "cell_type": "markdown",
      "source": [
        "###Logical OR (or):\n",
        "The or operator returns True if at least one of the operands is True, and False if both operands are False. It is used to create expressions where at least one condition must be true for the overall expression to be true."
      ],
      "metadata": {
        "id": "kbeF0WGE-yT4"
      },
      "id": "kbeF0WGE-yT4"
    },
    {
      "cell_type": "code",
      "execution_count": null,
      "metadata": {
        "id": "a1196765",
        "outputId": "ee3611a8-7de5-4057-a76d-441d7b9686a4"
      },
      "outputs": [
        {
          "data": {
            "text/plain": [
              "True"
            ]
          },
          "execution_count": 11,
          "metadata": {},
          "output_type": "execute_result"
        }
      ],
      "source": [
        "a < 1 or b > 20"
      ],
      "id": "a1196765"
    },
    {
      "cell_type": "markdown",
      "source": [
        "###Logical NOT (not):\n",
        "The not operator is used to negate a boolean value. It returns True if the operand is False, and False if the operand is True. It's used to reverse the truth value of a condition."
      ],
      "metadata": {
        "id": "yAjZyB2A-403"
      },
      "id": "yAjZyB2A-403"
    },
    {
      "cell_type": "code",
      "execution_count": null,
      "metadata": {
        "id": "0f3cd4ed",
        "outputId": "e535cd3a-a4df-48f3-bf42-e8c6b78aa663"
      },
      "outputs": [
        {
          "data": {
            "text/plain": [
              "False"
            ]
          },
          "execution_count": 13,
          "metadata": {},
          "output_type": "execute_result"
        }
      ],
      "source": [
        "a = True\n",
        "not a"
      ],
      "id": "0f3cd4ed"
    },
    {
      "cell_type": "markdown",
      "metadata": {
        "id": "5b9fbb0e"
      },
      "source": [
        "##**Unity operators**"
      ],
      "id": "5b9fbb0e"
    },
    {
      "cell_type": "markdown",
      "source": [
        "###is Operator:\n",
        "It returns True if two variables refer to the same object in memory, and False otherwise."
      ],
      "metadata": {
        "id": "cq4348MR_VD4"
      },
      "id": "cq4348MR_VD4"
    },
    {
      "cell_type": "code",
      "execution_count": null,
      "metadata": {
        "id": "5dd92b94",
        "outputId": "0aae89f4-950b-4ad1-f8ef-13edcc0fbcbc"
      },
      "outputs": [
        {
          "data": {
            "text/plain": [
              "True"
            ]
          },
          "execution_count": 15,
          "metadata": {},
          "output_type": "execute_result"
        }
      ],
      "source": [
        "new = \"see\"\n",
        "new is new"
      ],
      "id": "5dd92b94"
    },
    {
      "cell_type": "markdown",
      "source": [
        "### is not Operator:\n",
        "It returns True if two variables do not refer to the same object in memory, and False if they do."
      ],
      "metadata": {
        "id": "r-E1oyzE_aYp"
      },
      "id": "r-E1oyzE_aYp"
    },
    {
      "cell_type": "code",
      "execution_count": null,
      "metadata": {
        "id": "28b2ea93",
        "outputId": "26ba59c0-3610-4527-feda-973df58a44b6"
      },
      "outputs": [
        {
          "name": "stdout",
          "output_type": "stream",
          "text": [
            "False\n",
            "2673851952496 2673851952496\n"
          ]
        }
      ],
      "source": [
        "c = \"Ayush\"\n",
        "d = \"Ayush\"\n",
        "print(c is not d)\n",
        "print(id(c), id(d))"
      ],
      "id": "28b2ea93"
    },
    {
      "cell_type": "markdown",
      "metadata": {
        "id": "c8c05e48"
      },
      "source": [
        "## **Membership Operators**"
      ],
      "id": "c8c05e48"
    },
    {
      "cell_type": "markdown",
      "source": [
        "###in Operator:\n",
        "It returns True if a specified element exists within a sequence, and False otherwise."
      ],
      "metadata": {
        "id": "MuG4QRoC_-Qg"
      },
      "id": "MuG4QRoC_-Qg"
    },
    {
      "cell_type": "code",
      "execution_count": null,
      "metadata": {
        "id": "5a950504"
      },
      "outputs": [],
      "source": [
        "apple = [1, 2, 3, 4]"
      ],
      "id": "5a950504"
    },
    {
      "cell_type": "code",
      "execution_count": null,
      "metadata": {
        "id": "4b17095b",
        "outputId": "6ee232f3-a498-4edb-f0e6-50bb94ba92a2"
      },
      "outputs": [
        {
          "data": {
            "text/plain": [
              "True"
            ]
          },
          "execution_count": 23,
          "metadata": {},
          "output_type": "execute_result"
        }
      ],
      "source": [
        "1 in apple"
      ],
      "id": "4b17095b"
    },
    {
      "cell_type": "markdown",
      "source": [
        "###not in Operator:\n",
        "It returns True if a specified element does not exist within a sequence, and False if it does."
      ],
      "metadata": {
        "id": "XB6ZVsgZAVCp"
      },
      "id": "XB6ZVsgZAVCp"
    },
    {
      "cell_type": "code",
      "execution_count": null,
      "metadata": {
        "id": "9c895895",
        "outputId": "b82b21bc-f7e8-4acb-d984-3f730a77eabd"
      },
      "outputs": [
        {
          "data": {
            "text/plain": [
              "False"
            ]
          },
          "execution_count": 24,
          "metadata": {},
          "output_type": "execute_result"
        }
      ],
      "source": [
        "4 not in apple"
      ],
      "id": "9c895895"
    },
    {
      "cell_type": "markdown",
      "metadata": {
        "id": "2b8e92ab"
      },
      "source": [
        "##**Bitwise Operators**"
      ],
      "id": "2b8e92ab"
    },
    {
      "cell_type": "markdown",
      "source": [
        "###Bitwise AND (&):\n",
        "The & operator performs a bitwise AND operation between the corresponding bits of two integers. It returns a new integer with bits set to 1 only if both input bits are 1."
      ],
      "metadata": {
        "id": "n2QlLR7-EUu4"
      },
      "id": "n2QlLR7-EUu4"
    },
    {
      "cell_type": "code",
      "execution_count": null,
      "metadata": {
        "id": "5084de07",
        "outputId": "c85a26ad-ee53-46a3-de1e-b17853f9a86b"
      },
      "outputs": [
        {
          "data": {
            "text/plain": [
              "8"
            ]
          },
          "execution_count": 16,
          "metadata": {},
          "output_type": "execute_result"
        }
      ],
      "source": [
        "12 & 8"
      ],
      "id": "5084de07"
    },
    {
      "cell_type": "markdown",
      "source": [
        "###Bitwise OR (|):\n",
        "The | operator performs a bitwise OR operation between the corresponding bits of two integers. It returns a new integer with bits set to 1 if at least one of the input bits is 1."
      ],
      "metadata": {
        "id": "Q7lF7aqLEcyh"
      },
      "id": "Q7lF7aqLEcyh"
    },
    {
      "cell_type": "code",
      "execution_count": null,
      "metadata": {
        "id": "ecd9630f",
        "outputId": "5f5d167c-5167-4c81-c9a0-e7c5e9b94ff1"
      },
      "outputs": [
        {
          "data": {
            "text/plain": [
              "15"
            ]
          },
          "execution_count": 17,
          "metadata": {},
          "output_type": "execute_result"
        }
      ],
      "source": [
        "10 | 5"
      ],
      "id": "ecd9630f"
    },
    {
      "cell_type": "markdown",
      "source": [
        "###Bitwise XOR (^):\n",
        "The ^ operator performs a bitwise XOR (exclusive OR) operation between the corresponding bits of two integers. It returns a new integer with bits set to 1 if the input bits are different."
      ],
      "metadata": {
        "id": "bEt9eZgUEYJC"
      },
      "id": "bEt9eZgUEYJC"
    },
    {
      "cell_type": "code",
      "execution_count": null,
      "metadata": {
        "id": "94214c06",
        "outputId": "922e2443-0279-4d4e-f84a-a15f4566e061"
      },
      "outputs": [
        {
          "data": {
            "text/plain": [
              "15"
            ]
          },
          "execution_count": 18,
          "metadata": {},
          "output_type": "execute_result"
        }
      ],
      "source": [
        "10 ^ 5"
      ],
      "id": "94214c06"
    },
    {
      "cell_type": "markdown",
      "source": [
        "###Bitwise NOT (~):\n",
        "The ~ operator is a unary operator that performs a bitwise NOT operation, which inverts all the bits of the integer. It returns the complement of the integer."
      ],
      "metadata": {
        "id": "BdpYHJAqEiBR"
      },
      "id": "BdpYHJAqEiBR"
    },
    {
      "cell_type": "code",
      "execution_count": null,
      "metadata": {
        "id": "cba5b001",
        "outputId": "d4bedaac-ee68-45d3-c977-80748bf6148c"
      },
      "outputs": [
        {
          "data": {
            "text/plain": [
              "-5"
            ]
          },
          "execution_count": 19,
          "metadata": {},
          "output_type": "execute_result"
        }
      ],
      "source": [
        "~4"
      ],
      "id": "cba5b001"
    },
    {
      "cell_type": "markdown",
      "source": [
        "###Bitwise Left Shift (<<):\n",
        "The << operator shifts the bits of an integer to the left by a specified number of positions. It effectively multiplies the integer by 2 raised to the power of the specified shift count."
      ],
      "metadata": {
        "id": "qOG90ATLEx_o"
      },
      "id": "qOG90ATLEx_o"
    },
    {
      "cell_type": "code",
      "execution_count": null,
      "metadata": {
        "id": "fcb7755b",
        "outputId": "bb0d7522-ce60-47dd-d2ee-694f1b385b39"
      },
      "outputs": [
        {
          "data": {
            "text/plain": [
              "56"
            ]
          },
          "execution_count": 21,
          "metadata": {},
          "output_type": "execute_result"
        }
      ],
      "source": [
        "14 << 2"
      ],
      "id": "fcb7755b"
    },
    {
      "cell_type": "markdown",
      "source": [
        "###Bitwise Right Shift (>>):\n",
        "The >> operator shifts the bits of an integer to the right by a specified number of positions. It effectively divides the integer by 2 raised to the power of the specified shift count, rounding down."
      ],
      "metadata": {
        "id": "bQy0n2VzExHg"
      },
      "id": "bQy0n2VzExHg"
    },
    {
      "cell_type": "code",
      "execution_count": null,
      "metadata": {
        "id": "85830f14",
        "outputId": "7df5a9f8-2e4c-4056-cefd-e17541b4093d"
      },
      "outputs": [
        {
          "data": {
            "text/plain": [
              "2"
            ]
          },
          "execution_count": 20,
          "metadata": {},
          "output_type": "execute_result"
        }
      ],
      "source": [
        "4 >> 1"
      ],
      "id": "85830f14"
    }
  ],
  "metadata": {
    "kernelspec": {
      "display_name": "Python 3 (ipykernel)",
      "language": "python",
      "name": "python3"
    },
    "language_info": {
      "codemirror_mode": {
        "name": "ipython",
        "version": 3
      },
      "file_extension": ".py",
      "mimetype": "text/x-python",
      "name": "python",
      "nbconvert_exporter": "python",
      "pygments_lexer": "ipython3",
      "version": "3.9.12"
    },
    "colab": {
      "provenance": [],
      "include_colab_link": true
    }
  },
  "nbformat": 4,
  "nbformat_minor": 5
}